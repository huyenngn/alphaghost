{
 "cells": [
  {
   "cell_type": "markdown",
   "metadata": {},
   "source": [
    "# Play Phantom Go against an AlphaGhOst bot"
   ]
  },
  {
   "cell_type": "code",
   "execution_count": null,
   "metadata": {},
   "outputs": [],
   "source": [
    "from ipywidgets import widgets\n",
    "from alphaghost import phantom_go, parsers\n",
    "from alphaghost import alphazero as az\n",
    "import pathlib\n",
    "\n",
    "BOARD_SIZE = 9\n",
    "BLACK_PLAYER = \"human\"\n",
    "WHITE_PLAYER = \"mcts\"\n",
    "CONFIG = az.Config(board_size=BOARD_SIZE, max_simulations=100, uct_c=2.0)\n",
    "MODEL_PATH = pathlib.Path(\"checkpoints/model_step_-1.pth\")"
   ]
  },
  {
   "cell_type": "code",
   "execution_count": 3,
   "metadata": {},
   "outputs": [
    {
     "data": {
      "application/vnd.jupyter.widget-view+json": {
       "model_id": "7092654dbd714b93a81333023ab7e1e3",
       "version_major": 2,
       "version_minor": 0
      },
      "text/plain": [
       "HBox(children=(Output(), Text(value='a1', description='Move: '), Button(description='Make move', style=ButtonS…"
      ]
     },
     "execution_count": 3,
     "metadata": {},
     "output_type": "execute_result"
    }
   ],
   "source": [
    "game = phantom_go.PhantomGoGame(\n",
    "    config=CONFIG,\n",
    "    black=BLACK_PLAYER,\n",
    "    white=WHITE_PLAYER,\n",
    "    ag_model=MODEL_PATH,\n",
    ")\n",
    "if BLACK_PLAYER == \"human\":\n",
    "    player_id = 0\n",
    "else:\n",
    "    player_id = 1\n",
    "    game.auto_step()\n",
    "\n",
    "input = widgets.Text(value=\"a1\", description=\"Move: \")\n",
    "button = widgets.Button(description=\"Make move\", tooltip=\"Make move\")\n",
    "output = widgets.Output()\n",
    "\n",
    "\n",
    "def render_all(info=\"\"):\n",
    "    with output:\n",
    "        output.clear_output()\n",
    "        stones_count = parsers.get_stones_count(game.state)\n",
    "        print(f\"Black: {stones_count[0]}, White: {stones_count[1]}\")\n",
    "        display(parsers.render_board(game.state, player_id))\n",
    "        print(info)\n",
    "        print(previous_move_str())\n",
    "\n",
    "def previous_move_str():\n",
    "    color_str = phantom_go.GoColor(not game.current_player).name\n",
    "    info = parsers.get_previous_move_info_string(game.state, player_id)\n",
    "    return f\"{color_str}'s {info}\"\n",
    "\n",
    "\n",
    "def step(_):\n",
    "    if game.state.is_terminal():\n",
    "        winner = int(game.state.returns()[0] < game.state.returns()[1])\n",
    "        color = phantom_go.GoColor(winner).name\n",
    "        with output:\n",
    "            print(f\"Game is over. {color} won.\")\n",
    "        return\n",
    "    game.step(input.value)\n",
    "    pre = previous_move_str()\n",
    "    if game.current_player != player_id and not game.state.is_terminal():\n",
    "        game.auto_step()\n",
    "    render_all(pre)\n",
    "\n",
    "\n",
    "render_all()\n",
    "button.on_click(step)\n",
    "widgets.HBox([output, input, button])"
   ]
  }
 ],
 "metadata": {
  "kernelspec": {
   "display_name": ".venv",
   "language": "python",
   "name": "python3"
  },
  "language_info": {
   "codemirror_mode": {
    "name": "ipython",
    "version": 3
   },
   "file_extension": ".py",
   "mimetype": "text/x-python",
   "name": "python",
   "nbconvert_exporter": "python",
   "pygments_lexer": "ipython3",
   "version": "3.12.9"
  }
 },
 "nbformat": 4,
 "nbformat_minor": 2
}
